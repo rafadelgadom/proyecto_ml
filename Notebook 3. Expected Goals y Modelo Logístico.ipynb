{
 "cells": [
  {
   "cell_type": "markdown",
   "id": "6dc2c71e",
   "metadata": {},
   "source": [
    "# Análisis deportivo. Notebook 3\n",
    "#### Realizado por Rafael Delgado Martínez y Manuel García Romero.\n",
    "#### Asignatura de Machine Learning del Master de Ingeniería del Software: Cloud, Datos y Gestión IT."
   ]
  },
  {
   "cell_type": "markdown",
   "id": "82dee748",
   "metadata": {},
   "source": [
    "## Análisis deportivo. Regresión Logística de \"Expected Goals\" en función de la distancia y el ángulo de disparo.\n",
    "\n",
    "Expected Goals es uno de los modelos más importantes en el análisis en fútbol. Básicamente, \"Expected Goals\" o \"Goles Esperados\" es una medida estadística de la probabilidad de que un disparo desde una cierta localización del campo pueda resultar en gol o no. \n",
    "\n",
    "Los datos son extraídos de https://figshare.com/collections/Soccer_match_event_dataset/4415000/5 , que contiene datasets libres de usos obtenidos directamente de wyscout.com. Se ha usado el dataset referido a eventos, de la temporada 2018/2019 de la Primera División Española (Liga Santander). A la hora de trabajar con ellos, se ha utilizado la API de wyscout.com https://apidocs.wyscout.com/matches-wyid-events\n"
   ]
  },
  {
   "cell_type": "markdown",
   "id": "6ba33efb",
   "metadata": {},
   "source": [
    "## Índice del notebook\n",
    " \n",
    " 1.  Visualización de Expected Goals.\n",
    "     \n",
    "     1.1 Disparos desde diferentes zonas del campo.\n",
    "     \n",
    "     1.2 Goles desde diferentes zonas del campo.\n",
    "     \n",
    "     1.3 Proporción de disparos que acaban en gol desde diferentes zonas del campo.\n",
    "\n",
    " \n",
    " 2. Regresión Lineal. Ajuste del modelo.\n"
   ]
  },
  {
   "cell_type": "markdown",
   "id": "8d0f18e7",
   "metadata": {},
   "source": [
    "## 1. Visualización de Expected Goals."
   ]
  },
  {
   "cell_type": "code",
   "execution_count": 2,
   "id": "6341bbca",
   "metadata": {},
   "outputs": [],
   "source": [
    "import pandas as pd\n",
    "import numpy as np\n",
    "import json\n",
    "import matplotlib.pyplot as plt\n",
    "from matplotlib.patches import Arc\n",
    "\n",
    "#Para trabajar en este notebook, importaremos las funciones para crear un campo completo (createPitch) y un semicampo (createGolMouth)\n",
    "\n",
    "#Funciones extraídas de la librería libre de FCPython\n",
    "\n",
    "def createPitch(length,width, unity,linecolor):\n",
    "    \n",
    "    \"\"\"\n",
    "    creates a plot in which the 'length' is the length of the pitch (goal to goal).\n",
    "    And 'width' is the width of the pitch (sideline to sideline). \n",
    "    Fill in the unity in meters or in yards.\n",
    "    \"\"\"\n",
    "    #Set unity\n",
    "    if unity == \"meters\":\n",
    "        # Set boundaries\n",
    "        if length >= 120.5 or width >= 75.5:\n",
    "            return(str(\"Field dimensions are too big for meters as unity, didn't you mean yards as unity?\\\n",
    "                       Otherwise the maximum length is 120 meters and the maximum width is 75 meters. Please try again\"))\n",
    "        #Run program if unity and boundaries are accepted\n",
    "        else:\n",
    "            #Create figure\n",
    "            fig=plt.figure()\n",
    "            #fig.set_size_inches(7, 5)\n",
    "            ax=fig.add_subplot(1,1,1)\n",
    "           \n",
    "            #Pitch Outline & Centre Line\n",
    "            plt.plot([0,0],[0,width], color=linecolor)\n",
    "            plt.plot([0,length],[width,width], color=linecolor)\n",
    "            plt.plot([length,length],[width,0], color=linecolor)\n",
    "            plt.plot([length,0],[0,0], color=linecolor)\n",
    "            plt.plot([length/2,length/2],[0,width], color=linecolor)\n",
    "            \n",
    "            #Left Penalty Area\n",
    "            plt.plot([16.5 ,16.5],[(width/2 +16.5),(width/2-16.5)],color=linecolor)\n",
    "            plt.plot([0,16.5],[(width/2 +16.5),(width/2 +16.5)],color=linecolor)\n",
    "            plt.plot([16.5,0],[(width/2 -16.5),(width/2 -16.5)],color=linecolor)\n",
    "            \n",
    "            #Right Penalty Area\n",
    "            plt.plot([(length-16.5),length],[(width/2 +16.5),(width/2 +16.5)],color=linecolor)\n",
    "            plt.plot([(length-16.5), (length-16.5)],[(width/2 +16.5),(width/2-16.5)],color=linecolor)\n",
    "            plt.plot([(length-16.5),length],[(width/2 -16.5),(width/2 -16.5)],color=linecolor)\n",
    "            \n",
    "            #Left 5-meters Box\n",
    "            plt.plot([0,5.5],[(width/2+7.32/2+5.5),(width/2+7.32/2+5.5)],color=linecolor)\n",
    "            plt.plot([5.5,5.5],[(width/2+7.32/2+5.5),(width/2-7.32/2-5.5)],color=linecolor)\n",
    "            plt.plot([5.5,0.5],[(width/2-7.32/2-5.5),(width/2-7.32/2-5.5)],color=linecolor)\n",
    "            \n",
    "            #Right 5 -eters Box\n",
    "            plt.plot([length,length-5.5],[(width/2+7.32/2+5.5),(width/2+7.32/2+5.5)],color=linecolor)\n",
    "            plt.plot([length-5.5,length-5.5],[(width/2+7.32/2+5.5),width/2-7.32/2-5.5],color=linecolor)\n",
    "            plt.plot([length-5.5,length],[width/2-7.32/2-5.5,width/2-7.32/2-5.5],color=linecolor)\n",
    "            \n",
    "            #Prepare Circles\n",
    "            centreCircle = plt.Circle((length/2,width/2),9.15,color=linecolor,fill=False)\n",
    "            centreSpot = plt.Circle((length/2,width/2),0.8,color=linecolor)\n",
    "            leftPenSpot = plt.Circle((11,width/2),0.8,color=linecolor)\n",
    "            rightPenSpot = plt.Circle((length-11,width/2),0.8,color=linecolor)\n",
    "            \n",
    "            #Draw Circles\n",
    "            ax.add_patch(centreCircle)\n",
    "            ax.add_patch(centreSpot)\n",
    "            ax.add_patch(leftPenSpot)\n",
    "            ax.add_patch(rightPenSpot)\n",
    "            \n",
    "            #Prepare Arcs\n",
    "            leftArc = Arc((11,width/2),height=18.3,width=18.3,angle=0,theta1=308,theta2=52,color=linecolor)\n",
    "            rightArc = Arc((length-11,width/2),height=18.3,width=18.3,angle=0,theta1=128,theta2=232,color=linecolor)\n",
    "            \n",
    "            #Draw Arcs\n",
    "            ax.add_patch(leftArc)\n",
    "            ax.add_patch(rightArc)\n",
    "            #Axis titles\n",
    "\n",
    "    #check unity again\n",
    "    elif unity == \"yards\":\n",
    "        #check boundaries again\n",
    "        if length <= 95:\n",
    "            return(str(\"Didn't you mean meters as unity?\"))\n",
    "        elif length >= 131 or width >= 101:\n",
    "            return(str(\"Field dimensions are too big. Maximum length is 130, maximum width is 100\"))\n",
    "        #Run program if unity and boundaries are accepted\n",
    "        else:\n",
    "            #Create figure\n",
    "            fig=plt.figure()\n",
    "            #fig.set_size_inches(7, 5)\n",
    "            ax=fig.add_subplot(1,1,1)\n",
    "           \n",
    "            #Pitch Outline & Centre Line\n",
    "            plt.plot([0,0],[0,width], color=linecolor)\n",
    "            plt.plot([0,length],[width,width], color=linecolor)\n",
    "            plt.plot([length,length],[width,0], color=linecolor)\n",
    "            plt.plot([length,0],[0,0], color=linecolor)\n",
    "            plt.plot([length/2,length/2],[0,width], color=linecolor)\n",
    "            \n",
    "            #Left Penalty Area\n",
    "            plt.plot([18 ,18],[(width/2 +18),(width/2-18)],color=linecolor)\n",
    "            plt.plot([0,18],[(width/2 +18),(width/2 +18)],color=linecolor)\n",
    "            plt.plot([18,0],[(width/2 -18),(width/2 -18)],color=linecolor)\n",
    "            \n",
    "            #Right Penalty Area\n",
    "            plt.plot([(length-18),length],[(width/2 +18),(width/2 +18)],color=linecolor)\n",
    "            plt.plot([(length-18), (length-18)],[(width/2 +18),(width/2-18)],color=linecolor)\n",
    "            plt.plot([(length-18),length],[(width/2 -18),(width/2 -18)],color=linecolor)\n",
    "            \n",
    "            #Left 6-yard Box\n",
    "            plt.plot([0,6],[(width/2+7.32/2+6),(width/2+7.32/2+6)],color=linecolor)\n",
    "            plt.plot([6,6],[(width/2+7.32/2+6),(width/2-7.32/2-6)],color=linecolor)\n",
    "            plt.plot([6,0],[(width/2-7.32/2-6),(width/2-7.32/2-6)],color=linecolor)\n",
    "            \n",
    "            #Right 6-yard Box\n",
    "            plt.plot([length,length-6],[(width/2+7.32/2+6),(width/2+7.32/2+6)],color=linecolor)\n",
    "            plt.plot([length-6,length-6],[(width/2+7.32/2+6),width/2-7.32/2-6],color=linecolor)\n",
    "            plt.plot([length-6,length],[(width/2-7.32/2-6),width/2-7.32/2-6],color=linecolor)\n",
    "            \n",
    "            #Prepare Circles; 10 yards distance. penalty on 12 yards\n",
    "            centreCircle = plt.Circle((length/2,width/2),10,color=linecolor,fill=False)\n",
    "            centreSpot = plt.Circle((length/2,width/2),0.8,color=linecolor)\n",
    "            leftPenSpot = plt.Circle((12,width/2),0.8,color=linecolor)\n",
    "            rightPenSpot = plt.Circle((length-12,width/2),0.8,color=linecolor)\n",
    "            \n",
    "            #Draw Circles\n",
    "            ax.add_patch(centreCircle)\n",
    "            ax.add_patch(centreSpot)\n",
    "            ax.add_patch(leftPenSpot)\n",
    "            ax.add_patch(rightPenSpot)\n",
    "            \n",
    "            #Prepare Arcs\n",
    "            leftArc = Arc((11,width/2),height=20,width=20,angle=0,theta1=312,theta2=48,color=linecolor)\n",
    "            rightArc = Arc((length-11,width/2),height=20,width=20,angle=0,theta1=130,theta2=230,color=linecolor)\n",
    "            \n",
    "            #Draw Arcs\n",
    "            ax.add_patch(leftArc)\n",
    "            ax.add_patch(rightArc)\n",
    "                \n",
    "    #Tidy Axes\n",
    "    plt.axis('off')\n",
    "    \n",
    "    return fig,ax\n",
    "\n",
    "\n",
    "def createPitchOld():\n",
    "    #Taken from FC Python        \n",
    "    #Create figure\n",
    "    fig=plt.figure()\n",
    "    ax=fig.add_subplot(1,1,1)\n",
    "\n",
    "    #Pitch Outline & Centre Line\n",
    "    plt.plot([0,0],[0,90], color=linecolor)\n",
    "    plt.plot([0,130],[90,90], color=linecolor)\n",
    "    plt.plot([130,130],[90,0], color=linecolor)\n",
    "    plt.plot([130,0],[0,0], color=linecolor)\n",
    "    plt.plot([65,65],[0,90], color=linecolor)\n",
    "    \n",
    "    #Left Penalty Area\n",
    "    plt.plot([16.5,16.5],[65,25],color=linecolor)\n",
    "    plt.plot([0,16.5],[65,65],color=linecolor)\n",
    "    plt.plot([16.5,0],[25,25],color=linecolor)\n",
    "    \n",
    "    #Right Penalty Area\n",
    "    plt.plot([130,113.5],[65,65],color=linecolor)\n",
    "    plt.plot([113.5,113.5],[65,25],color=linecolor)\n",
    "    plt.plot([113.5,130],[25,25],color=linecolor)\n",
    "    \n",
    "    #Left 6-yard Box\n",
    "    plt.plot([0,5.5],[54,54],color=linecolor)\n",
    "    plt.plot([5.5,5.5],[54,36],color=linecolor)\n",
    "    plt.plot([5.5,0.5],[36,36],color=linecolor)\n",
    "    \n",
    "    #Right 6-yard Box\n",
    "    plt.plot([130,124.5],[54,54],color=linecolor)\n",
    "    plt.plot([124.5,124.5],[54,36],color=linecolor)\n",
    "    plt.plot([124.5,130],[36,36],color=linecolor)\n",
    "    \n",
    "    #Prepare Circles\n",
    "    centreCircle = plt.Circle((65,45),9.15,color=linecolor,fill=False)\n",
    "    centreSpot = plt.Circle((65,45),0.8,color=linecolor)\n",
    "    leftPenSpot = plt.Circle((11,45),0.8,color=linecolor)\n",
    "    rightPenSpot = plt.Circle((119,45),0.8,color=linecolor)\n",
    "    \n",
    "    #Draw Circles\n",
    "    ax.add_patch(centreCircle)\n",
    "    ax.add_patch(centreSpot)\n",
    "    ax.add_patch(leftPenSpot)\n",
    "    ax.add_patch(rightPenSpot)\n",
    "    \n",
    "    #Prepare Arcs\n",
    "    leftArc = Arc((11,45),height=18.3,width=18.3,angle=0,theta1=310,theta2=50,color=linecolor)\n",
    "    rightArc = Arc((119,45),height=18.3,width=18.3,angle=0,theta1=130,theta2=230,color=linecolor)\n",
    "\n",
    "    #Draw Arcs\n",
    "    ax.add_patch(leftArc)\n",
    "    ax.add_patch(rightArc)\n",
    "    \n",
    "    #Tidy Axes\n",
    "    plt.axis('off')\n",
    "    \n",
    "    return fig,ax\n",
    "\n",
    "def createGoalMouth():\n",
    "    #Adopted from FC Python\n",
    "    #Create figure\n",
    "    fig=plt.figure()\n",
    "    ax=fig.add_subplot(1,1,1)\n",
    "\n",
    "    linecolor='black'\n",
    "\n",
    "    #Pitch Outline & Centre Line\n",
    "    plt.plot([0,65],[0,0], color=linecolor)\n",
    "    plt.plot([65,65],[50,0], color=linecolor)\n",
    "    plt.plot([0,0],[50,0], color=linecolor)\n",
    "    \n",
    "    #Left Penalty Area\n",
    "    plt.plot([12.5,52.5],[16.5,16.5],color=linecolor)\n",
    "    plt.plot([52.5,52.5],[16.5,0],color=linecolor)\n",
    "    plt.plot([12.5,12.5],[0,16.5],color=linecolor)\n",
    "    \n",
    "    #Left 6-yard Box\n",
    "    plt.plot([41.5,41.5],[5.5,0],color=linecolor)\n",
    "    plt.plot([23.5,41.5],[5.5,5.5],color=linecolor)\n",
    "    plt.plot([23.5,23.5],[0,5.5],color=linecolor)\n",
    "    \n",
    "    #Goal\n",
    "    plt.plot([41.5-5.34,41.5-5.34],[-2,0],color=linecolor)\n",
    "    plt.plot([23.5+5.34,41.5-5.34],[-2,-2],color=linecolor)\n",
    "    plt.plot([23.5+5.34,23.5+5.34],[0,-2],color=linecolor)\n",
    "    \n",
    "    #Prepare Circles\n",
    "    leftPenSpot = plt.Circle((65/2,11),0.8,color=linecolor)\n",
    "    \n",
    "    #Draw Circles\n",
    "    ax.add_patch(leftPenSpot)\n",
    "    \n",
    "    #Prepare Arcs\n",
    "    leftArc = Arc((32.5,11),height=18.3,width=18.3,angle=0,theta1=38,theta2=142,color=linecolor)\n",
    "    \n",
    "    #Draw Arcs\n",
    "    ax.add_patch(leftArc)\n",
    "    \n",
    "    #Tidy Axes\n",
    "    plt.axis('off')\n",
    "    \n",
    "    return fig,ax"
   ]
  },
  {
   "cell_type": "code",
   "execution_count": 3,
   "id": "806c761a",
   "metadata": {},
   "outputs": [],
   "source": [
    "#Modelos de ajuste estadístico.\n",
    "import statsmodels.api as sm\n",
    "import statsmodels.formula.api as smf"
   ]
  },
  {
   "cell_type": "markdown",
   "id": "eb4926de",
   "metadata": {},
   "source": [
    " ### Decidimos operar con datos de la Liga Española (Liga Santander) 2018/2019."
   ]
  },
  {
   "cell_type": "code",
   "execution_count": 4,
   "id": "2a68d776",
   "metadata": {},
   "outputs": [],
   "source": [
    "#Decidimos operar con datos de la liga Española\n",
    "with open('data/events_Spain.json') as f:\n",
    "    data = json.load(f)"
   ]
  },
  {
   "cell_type": "code",
   "execution_count": 5,
   "id": "1d8687a0",
   "metadata": {},
   "outputs": [],
   "source": [
    "#Dataframe de disparos.\n",
    "train = pd.DataFrame(data)\n",
    "pd.unique(train['subEventName'])\n",
    "shots=train[train['subEventName']=='Shot']\n",
    "shots_model=pd.DataFrame(columns=['Goal','X','Y'])"
   ]
  },
  {
   "cell_type": "markdown",
   "id": "7a46ce5e",
   "metadata": {},
   "source": [
    "## 1.1 Disparos desde zonas diferentes del campo"
   ]
  },
  {
   "cell_type": "code",
   "execution_count": 6,
   "id": "5bf3687c",
   "metadata": {},
   "outputs": [],
   "source": [
    "#Conseguir del dataframe el ángulo y la distancia del disparo. Obviar los tiros de cabeza.\n",
    "#Los detalles y funciones usadas y toda la documentación ha sido extraído de aquí: https://apidocs.wyscout.com/matches-wyid-events\n",
    "\n",
    "for i,shot in shots.iterrows():\n",
    "    \n",
    "    header=0\n",
    "    for shottags in shot['tags']:\n",
    "        if shottags['id']==403:\n",
    "            header=1\n",
    "    #No incluir tiros de cabeza      \n",
    "    if not(header):        \n",
    "        shots_model.at[i,'X']=100-shot['positions'][0]['x']\n",
    "        shots_model.at[i,'Y']=shot['positions'][0]['y']\n",
    "        shots_model.at[i,'C']=abs(shot['positions'][0]['y']-50)\n",
    "    \n",
    "        #Distancia en metros y ángulos en radianes\n",
    "        x=shots_model.at[i,'X']*105/100\n",
    "        y=shots_model.at[i,'C']*65/100\n",
    "        shots_model.at[i,'Distance']=np.sqrt(x**2 + y**2)\n",
    "        a = np.arctan(7.32 *x /(x**2 + y**2 - (7.32/2)**2))\n",
    "        if a<0:\n",
    "            a=np.pi+a\n",
    "        shots_model.at[i,'Angle'] =a\n",
    "    \n",
    "        #Ver si es gol o no. Si no es gol, es = 0. Si es gol = 1\n",
    "        shots_model.at[i,'Goal']=0\n",
    "        for shottags in shot['tags']:\n",
    "                #Tags contain that its a goal\n",
    "                if shottags['id']==101:\n",
    "                    shots_model.at[i,'Goal']=1\n",
    "\n",
    "#Two dimensional histogram\n",
    "H_Shot=np.histogram2d(shots_model['X'], shots_model['Y'],bins=50,range=[[0, 100],[0, 100]])\n",
    "goals_only=shots_model[shots_model['Goal']==1]\n",
    "H_Goal=np.histogram2d(goals_only['X'], goals_only['Y'],bins=50,range=[[0, 100],[0, 100]])"
   ]
  },
  {
   "cell_type": "code",
   "execution_count": 7,
   "id": "d5c17ce8",
   "metadata": {},
   "outputs": [
    {
     "data": {
      "image/png": "[encoded data removed]",
      "text/plain": [
       "<Figure size 432x288 with 2 Axes>"
      ]
     },
     "metadata": {
      "needs_background": "light"
     },
     "output_type": "display_data"
    }
   ],
   "source": [
    "#Gráfica de tiros desde diferentes puntos.\n",
    "(fig,ax) = createGoalMouth() #Para crear el semicampo\n",
    "pos=ax.imshow(H_Shot[0], extent=[-1,66,104,-1], aspect='auto',cmap=plt.cm.Reds)\n",
    "fig.colorbar(pos, ax=ax)\n",
    "ax.set_title('Disparos desde diferentes zonas del campo')\n",
    "plt.xlim((-1,66))\n",
    "plt.ylim((-3,35))\n",
    "plt.tight_layout()\n",
    "plt.gca().set_aspect('equal', adjustable='box')\n",
    "plt.show()\n",
    "#fig.savefig('NumberOfShots.pdf', dpi=None, bbox_inches=\"tight\")  Para guardar en pdf la imagen"
   ]
  },
  {
   "cell_type": "markdown",
   "id": "61711c70",
   "metadata": {},
   "source": [
    "## 1.2 Goles desde diferentes zonas del campo"
   ]
  },
  {
   "cell_type": "code",
   "execution_count": 8,
   "id": "832df284",
   "metadata": {},
   "outputs": [
    {
     "data": {
      "image/png": "[encoded data removed]",
      "text/plain": [
       "<Figure size 432x288 with 2 Axes>"
      ]
     },
     "metadata": {
      "needs_background": "light"
     },
     "output_type": "display_data"
    }
   ],
   "source": [
    "#Gráfica de goles desde diferentes partes del campo\n",
    "(fig,ax) = createGoalMouth()\n",
    "pos=ax.imshow(H_Goal[0], extent=[-1,66,104,-1], aspect='auto',cmap=plt.cm.Reds)\n",
    "fig.colorbar(pos, ax=ax)\n",
    "ax.set_title('Número de goles desde diferentes partes del campo')\n",
    "plt.xlim((-1,66))\n",
    "plt.ylim((-3,35))\n",
    "plt.tight_layout()\n",
    "plt.gca().set_aspect('equal', adjustable='box')\n",
    "plt.show()\n",
    "#fig.savefig('NumberOfGoals.pdf', dpi=None, bbox_inches=\"tight\")   "
   ]
  },
  {
   "cell_type": "markdown",
   "id": "16640ccf",
   "metadata": {},
   "source": [
    "## 1.3 Proporción de tiros convertidos en gol desde diferentes zonas del campo"
   ]
  },
  {
   "cell_type": "code",
   "execution_count": 9,
   "id": "230b11b3",
   "metadata": {},
   "outputs": [
    {
     "name": "stderr",
     "output_type": "stream",
     "text": [
      "C:\\Users\\usuario\\AppData\\Local\\Temp/ipykernel_14248/497042597.py:3: RuntimeWarning: invalid value encountered in true_divide\n",
      "  pos=ax.imshow(H_Goal[0]/H_Shot[0], extent=[-1,66,104,-1], aspect='auto',cmap=plt.cm.Reds,vmin=0, vmax=0.5)\n"
     ]
    },
    {
     "data": {
      "image/png": "[encoded data removed]",
      "text/plain": [
       "<Figure size 432x288 with 2 Axes>"
      ]
     },
     "metadata": {
      "needs_background": "light"
     },
     "output_type": "display_data"
    }
   ],
   "source": [
    "#Gráfico de probabilidades de ser gol desde una posición determinada\n",
    "(fig,ax) = createGoalMouth()\n",
    "pos=ax.imshow(H_Goal[0]/H_Shot[0], extent=[-1,66,104,-1], aspect='auto',cmap=plt.cm.Reds,vmin=0, vmax=0.5)\n",
    "fig.colorbar(pos, ax=ax)\n",
    "ax.set_title('Proporción de tiros que resultan en gol')\n",
    "plt.xlim((-1,66))\n",
    "plt.ylim((-3,35))\n",
    "plt.tight_layout()\n",
    "plt.gca().set_aspect('equal', adjustable='box')\n",
    "plt.show()\n",
    "#fig.savefig('ProbabilityOfScoring.pdf', dpi=None, bbox_inches=\"tight\")   "
   ]
  },
  {
   "cell_type": "markdown",
   "id": "52687ed3",
   "metadata": {},
   "source": [
    "## 2. Regresión Logística. Ajuste del modelo"
   ]
  },
  {
   "cell_type": "code",
   "execution_count": 10,
   "id": "a271dae1",
   "metadata": {},
   "outputs": [],
   "source": [
    "#Obtenemos los primeros 200 disparos.\n",
    "shots_200=shots_model.iloc[:200]"
   ]
  },
  {
   "cell_type": "code",
   "execution_count": 11,
   "id": "4d2d02f5",
   "metadata": {},
   "outputs": [
    {
     "name": "stderr",
     "output_type": "stream",
     "text": [
      "C:\\Users\\usuario\\AppData\\Local\\Temp/ipykernel_14248/1380456560.py:3: MatplotlibDeprecationWarning: Case-insensitive properties were deprecated in 3.3 and support will be removed two minor releases later\n",
      "  ax.plot(shots_200['Angle']*180/np.pi, shots_200['Goal'], linestyle='none', marker= '.', markerSize= 12, color='black')\n"
     ]
    },
    {
     "data": {
      "image/png": "[encoded data removed]",
      "text/plain": [
       "<Figure size 432x288 with 1 Axes>"
      ]
     },
     "metadata": {
      "needs_background": "light"
     },
     "output_type": "display_data"
    }
   ],
   "source": [
    "#Dibujamos esos 200 disparos en función del ángulo que con el que se realiza el chut. Pueden clasificarse en Sí (GOL) o no (No GOL)\n",
    "fig,ax=plt.subplots(num=1)\n",
    "ax.plot(shots_200['Angle']*180/np.pi, shots_200['Goal'], linestyle='none', marker= '.', markerSize= 12, color='black')\n",
    "ax.set_ylabel('¿Es gol?')\n",
    "ax.set_xlabel(\"Ángulo de disparo en grados\")\n",
    "plt.ylim((-0.05,1.05))\n",
    "ax.set_yticks([0,1])\n",
    "ax.set_yticklabels(['No','Sí'])\n",
    "plt.show()"
   ]
  },
  {
   "cell_type": "markdown",
   "id": "b7e61071",
   "metadata": {},
   "source": [
    "Comprobaremos como empíricamente el ángulo de disparo predice la probabilidad de gol mediante los diferentes modelos de regresión.\n"
   ]
  },
  {
   "cell_type": "markdown",
   "id": "9ca0e8dd",
   "metadata": {},
   "source": [
    "### Modelo Regresión Lineal\n",
    "\n",
    "No es un buen modelo puesto que la probabilidad no puede ser mayor que 1 ni menor que 0."
   ]
  },
  {
   "cell_type": "code",
   "execution_count": 12,
   "id": "9f50e046",
   "metadata": {},
   "outputs": [
    {
     "name": "stderr",
     "output_type": "stream",
     "text": [
      "C:\\Users\\usuario\\AppData\\Local\\Temp/ipykernel_14248/1922753230.py:3: RuntimeWarning: invalid value encountered in true_divide\n",
      "  prob_goal=np.divide(goalcount_dist[0],shotcount_dist[0])\n",
      "C:\\Users\\usuario\\AppData\\Local\\Temp/ipykernel_14248/1922753230.py:7: MatplotlibDeprecationWarning: Case-insensitive properties were deprecated in 3.3 and support will be removed two minor releases later\n",
      "  ax.plot(midangle, prob_goal, linestyle='none', marker= '.', markerSize= 12, color='black')\n"
     ]
    },
    {
     "data": {
      "image/png": "[encoded data removed]",
      "text/plain": [
       "<Figure size 432x288 with 1 Axes>"
      ]
     },
     "metadata": {
      "needs_background": "light"
     },
     "output_type": "display_data"
    }
   ],
   "source": [
    "shotcount_dist=np.histogram(shots_model['Angle']*180/np.pi,bins=40,range=[0, 150])\n",
    "goalcount_dist=np.histogram(goals_only['Angle']*180/np.pi,bins=40,range=[0, 150])\n",
    "prob_goal=np.divide(goalcount_dist[0],shotcount_dist[0])\n",
    "angle=shotcount_dist[1]\n",
    "midangle= (angle[:-1] + angle[1:])/2\n",
    "fig,ax=plt.subplots(num=2)\n",
    "ax.plot(midangle, prob_goal, linestyle='none', marker= '.', markerSize= 12, color='black')\n",
    "ax.set_ylabel('Probabilidad de ser Gol')\n",
    "ax.set_xlabel(\"Ángulo de disparo en grados.\")\n",
    "ax.spines['top'].set_visible(False)\n",
    "ax.spines['right'].set_visible(False)\n",
    "\n",
    "#Modelo Reg.lineal\n",
    "#No es un buen modelo puesto que la probabilidad no puede ser mayor que 1 ni menor que 0.\n",
    "#Intercept and Slope\n",
    "b=[-0.05, 1/125]\n",
    "x=np.arange(150,step=0.1)\n",
    "y= b[0] + b[1]*x \n",
    "ax.plot(x, y, linestyle='solid', color='black')\n",
    "plt.show()"
   ]
  },
  {
   "cell_type": "markdown",
   "id": "7e83d61b",
   "metadata": {},
   "source": [
    "### Modelo Regresión Sigmoide\n",
    "\n",
    "Puede ser un buen modelo pero no sabemos si realiza un ajuste óptimo (fit).\n"
   ]
  },
  {
   "cell_type": "code",
   "execution_count": 13,
   "id": "804ec44d",
   "metadata": {},
   "outputs": [
    {
     "name": "stderr",
     "output_type": "stream",
     "text": [
      "C:\\Users\\usuario\\AppData\\Local\\Temp/ipykernel_14248/2697737254.py:3: RuntimeWarning: invalid value encountered in true_divide\n",
      "  prob_goal=np.divide(goalcount_dist[0],shotcount_dist[0])\n",
      "C:\\Users\\usuario\\AppData\\Local\\Temp/ipykernel_14248/2697737254.py:6: MatplotlibDeprecationWarning: Case-insensitive properties were deprecated in 3.3 and support will be removed two minor releases later\n",
      "  ax.plot(midangle, prob_goal, linestyle='none', marker= '.', markerSize= 12, color='black')\n"
     ]
    },
    {
     "data": {
      "image/png": "[encoded data removed]",
      "text/plain": [
       "<Figure size 432x288 with 1 Axes>"
      ]
     },
     "metadata": {
      "needs_background": "light"
     },
     "output_type": "display_data"
    }
   ],
   "source": [
    "shotcount_dist=np.histogram(shots_model['Angle']*180/np.pi,bins=40,range=[0, 150])\n",
    "goalcount_dist=np.histogram(goals_only['Angle']*180/np.pi,bins=40,range=[0, 150])\n",
    "prob_goal=np.divide(goalcount_dist[0],shotcount_dist[0])\n",
    "midangle= (angle[:-1] + angle[1:])/2\n",
    "fig,ax=plt.subplots(num=2)\n",
    "ax.plot(midangle, prob_goal, linestyle='none', marker= '.', markerSize= 12, color='black')\n",
    "ax.set_ylabel('Probabilidad de ser Gol')\n",
    "ax.set_xlabel(\"Ángulo de disparo en grados.\")\n",
    "ax.spines['top'].set_visible(False)\n",
    "ax.spines['right'].set_visible(False)\n",
    "\n",
    "#Sigmoid model\n",
    "#Puede ser un buen modelo pero no sabemos si realiza un ajuste óptimo (fit).\n",
    "\n",
    "b=[3, -3]\n",
    "x=np.arange(150,step=0.1)\n",
    "y=1/(1+np.exp(b[0]+b[1]*x*np.pi/180)) \n",
    "ax.plot(x, y, linestyle='solid', color='black')\n",
    "plt.show()"
   ]
  },
  {
   "cell_type": "markdown",
   "id": "27412880",
   "metadata": {},
   "source": [
    "### Regresión Logística. Ángulo\n",
    "\n",
    "Para la regresión logística, maximizamos el producto de la distancia entre lo esperado (Si es gol o No) y la predicción. \n",
    "O lo que es lo mismo, maximizar la suma del logaritmo de la distancia entre los puntos y las líneas de las curvas.\n",
    "\n"
   ]
  },
  {
   "cell_type": "code",
   "execution_count": 14,
   "id": "d100f4a9",
   "metadata": {
    "scrolled": true
   },
   "outputs": [
    {
     "name": "stderr",
     "output_type": "stream",
     "text": [
      "C:\\Users\\usuario\\AppData\\Local\\Temp/ipykernel_14248/2091280306.py:6: MatplotlibDeprecationWarning: Case-insensitive properties were deprecated in 3.3 and support will be removed two minor releases later\n",
      "  ax.plot(shots_40['Angle']*180/np.pi, shots_40['Goal'], linestyle='none', marker= '.', markerSize= 12, color='black')\n"
     ]
    },
    {
     "data": {
      "image/png": "[encoded data removed]",
      "text/plain": [
       "<Figure size 432x288 with 1 Axes>"
      ]
     },
     "metadata": {
      "needs_background": "light"
     },
     "output_type": "display_data"
    }
   ],
   "source": [
    "#Now lets look at the likelihood of model given data\n",
    "xG=1/(1+np.exp(b[0]+b[1]*shots_model['Angle'])) \n",
    "shots_model = shots_model.assign(xG=xG)\n",
    "shots_40=shots_model.iloc[:40]\n",
    "fig,ax=plt.subplots(num=1)\n",
    "ax.plot(shots_40['Angle']*180/np.pi, shots_40['Goal'], linestyle='none', marker= '.', markerSize= 12, color='black')\n",
    "ax.plot(x, y, linestyle='solid', color='black')\n",
    "ax.plot(x, 1-y, linestyle='solid', color='black')\n",
    "loglikelihood=0\n",
    "for item,shot in shots_40.iterrows():\n",
    "    ang=shot['Angle']*180/np.pi\n",
    "    if shot['Goal']==1:\n",
    "        loglikelihood=loglikelihood+np.log(shot['xG'])\n",
    "        ax.plot([ang,ang],[shot['Goal'],shot['xG']], color='red')\n",
    "    else:\n",
    "        loglikelihood=loglikelihood+np.log(1 - shot['xG'])\n",
    "        ax.plot([ang,ang],[shot['Goal'],1-shot['xG']], color='blue')\n",
    "    \n",
    "ax.set_ylabel('¿Es gol?')\n",
    "ax.set_xlabel(\"Ángulo de disparo en grados.\")\n",
    "plt.ylim((-0.05,1.05))\n",
    "plt.xlim((0,80))\n",
    "plt.text(45,0.2,'Log-likelihood:') \n",
    "plt.text(45,0.1,str(loglikelihood))\n",
    "ax.set_yticks([0,1])\n",
    "ax.spines['top'].set_visible(False)\n",
    "ax.spines['right'].set_visible(False)\n",
    "#fig.savefig('LikelihoodExample.pdf', dpi=None, bbox_inches=\"tight\")   \n",
    "plt.show()"
   ]
  },
  {
   "cell_type": "markdown",
   "id": "8747f580",
   "metadata": {},
   "source": [
    "En la gráfica, hay representados 100 puntos: Los puntos superiores representan los tiros que se han convertido en gol y los puntos inferiores los tiros que no se han convertido en gol.\n",
    "\n",
    "Hay dos curvas en la gráfica y ambas son simétricas. La que va de abajo hacia arriba representa la probabilidad de que un disparo sea gol, es decir, la curva del expected goal. La que va de  arriba hacia abajo equivale a 1-probabilidad de que un disparo sea gol, es decir, es la curva que representa lo contrario de la expected goal o simplemente que no sea gol.\n",
    "\n",
    "Se maximiza el producto de todas las distancias: Tomamos todas las distancias de los puntos que no son goles (puntos inferiores) hasta el límite de la curva de la probabilidad de no Gol y del las distancias de los puntos que son goles (puntos superiores) hasta el límite de la curva de la probabilidad de Gol y se multiplican todas entre ellas.\n",
    "\n",
    "Todo esta maximización con el objetivo de que nos de la probabilidad de gol de este set particular de disparos dado el modelo que hemos establecido.\n"
   ]
  },
  {
   "cell_type": "code",
   "execution_count": 15,
   "id": "a54f0a3e",
   "metadata": {},
   "outputs": [
    {
     "name": "stdout",
     "output_type": "stream",
     "text": [
      "                   Generalized Linear Model Regression Results                    \n",
      "==================================================================================\n",
      "Dep. Variable:     ['Goal[0]', 'Goal[1]']   No. Observations:                 6608\n",
      "Model:                                GLM   Df Residuals:                     6606\n",
      "Model Family:                    Binomial   Df Model:                            1\n",
      "Link Function:                      logit   Scale:                          1.0000\n",
      "Method:                              IRLS   Log-Likelihood:                -1908.7\n",
      "Date:                    Mon, 14 Feb 2022   Deviance:                       3817.4\n",
      "Time:                            20:12:25   Pearson chi2:                 6.12e+03\n",
      "No. Iterations:                         6                                         \n",
      "Covariance Type:                nonrobust                                         \n",
      "==============================================================================\n",
      "                 coef    std err          z      P>|z|      [0.025      0.975]\n",
      "------------------------------------------------------------------------------\n",
      "Intercept      3.8730      0.093     41.854      0.000       3.692       4.054\n",
      "Angle         -3.9638      0.171    -23.228      0.000      -4.298      -3.629\n",
      "==============================================================================\n"
     ]
    },
    {
     "name": "stderr",
     "output_type": "stream",
     "text": [
      "C:\\Users\\usuario\\AppData\\Local\\Temp/ipykernel_14248/886108843.py:11: MatplotlibDeprecationWarning: Case-insensitive properties were deprecated in 3.3 and support will be removed two minor releases later\n",
      "  ax.plot(midangle, prob_goal, linestyle='none', marker= '.', markerSize= 12, color='black')\n"
     ]
    },
    {
     "data": {
      "image/png": "[encoded data removed]",
      "text/plain": [
       "<Figure size 432x288 with 1 Axes>"
      ]
     },
     "metadata": {
      "needs_background": "light"
     },
     "output_type": "display_data"
    }
   ],
   "source": [
    "#Crear un modelo de regresión logística para encontrar los valores óptimos de b\n",
    "#Este proceso minimiza la log-verosimilitud. (log-likelihood)\n",
    "\n",
    "test_model = smf.glm(formula=\"Goal ~ Angle\" , data=shots_model, \n",
    "                           family=sm.families.Binomial()).fit()\n",
    "print(test_model.summary())        \n",
    "b=test_model.params\n",
    "\n",
    "xGprob=1/(1+np.exp(b[0]+b[1]*midangle*np.pi/180)) \n",
    "fig,ax=plt.subplots(num=1)\n",
    "ax.plot(midangle, prob_goal, linestyle='none', marker= '.', markerSize= 12, color='black')\n",
    "ax.plot(midangle, xGprob, linestyle='solid', color='black')\n",
    "ax.set_ylabel('Probabilidad de GOL')\n",
    "ax.set_xlabel(\"Ángulo de disparo (en grados)\")\n",
    "ax.spines['top'].set_visible(False)\n",
    "ax.spines['right'].set_visible(False)\n",
    "plt.show()\n",
    "#fig.savefig('ProbabilityOfScoringAngleFit.pdf', dpi=None, bbox_inches=\"tight\")   "
   ]
  },
  {
   "cell_type": "markdown",
   "id": "ab6ec480",
   "metadata": {},
   "source": [
    "Para ajustar el modelo de goles en función del ángulo de disparo, se usa el paquete del modelo de generalizado lineal.         \n",
    "\n",
    "El coeficiente Intercept sería el B0 y el coeficiente Angle el B1, quedando en está gráfica de arriba el modelo de regresión logística perfectamente ajustado.\n",
    "\n",
    "La fórmula matemática de la probabilidad de gol = 1/1+e^(3.71-3.4*ang)."
   ]
  },
  {
   "cell_type": "markdown",
   "id": "31397f9c",
   "metadata": {},
   "source": [
    "### Regresión Logística. Distancia\n"
   ]
  },
  {
   "cell_type": "code",
   "execution_count": 42,
   "id": "a2b87f7b",
   "metadata": {},
   "outputs": [
    {
     "name": "stderr",
     "output_type": "stream",
     "text": [
      "C:\\Users\\usuario\\AppData\\Local\\Temp/ipykernel_24184/625268909.py:4: RuntimeWarning: invalid value encountered in true_divide\n",
      "  prob_goal=np.divide(goalcount_dist[0],shotcount_dist[0])\n"
     ]
    },
    {
     "name": "stdout",
     "output_type": "stream",
     "text": [
      "                   Generalized Linear Model Regression Results                    \n",
      "==================================================================================\n",
      "Dep. Variable:     ['Goal[0]', 'Goal[1]']   No. Observations:                 6608\n",
      "Model:                                GLM   Df Residuals:                     6606\n",
      "Model Family:                    Binomial   Df Model:                            1\n",
      "Link Function:                      logit   Scale:                          1.0000\n",
      "Method:                              IRLS   Log-Likelihood:                -1891.9\n",
      "Date:                    Wed, 09 Feb 2022   Deviance:                       3783.8\n",
      "Time:                            19:06:15   Pearson chi2:                 3.10e+07\n",
      "No. Iterations:                         7                                         \n",
      "Covariance Type:                nonrobust                                         \n",
      "==============================================================================\n",
      "                 coef    std err          z      P>|z|      [0.025      0.975]\n",
      "------------------------------------------------------------------------------\n",
      "Intercept     -0.6505      0.113     -5.764      0.000      -0.872      -0.429\n",
      "Distance       0.1722      0.008     22.397      0.000       0.157       0.187\n",
      "==============================================================================\n"
     ]
    },
    {
     "data": {
      "image/png": "[encoded data removed]",
      "text/plain": [
       "<Figure size 432x288 with 1 Axes>"
      ]
     },
     "metadata": {
      "needs_background": "light"
     },
     "output_type": "display_data"
    }
   ],
   "source": [
    "#Mostramos empíricamente que la probabilidad de gol decrece a medida que aumentamos la distancia desde donde se tira\n",
    "shotcount_dist=np.histogram(shots_model['Distance'],bins=40,range=[0, 70])\n",
    "goalcount_dist=np.histogram(goals_only['Distance'],bins=40,range=[0, 70])\n",
    "prob_goal=np.divide(goalcount_dist[0],shotcount_dist[0])\n",
    "distance=shotcount_dist[1]\n",
    "middistance= (distance[:-1] + distance[1:])/2\n",
    "fig,ax=plt.subplots(num=1)\n",
    "ax.plot(middistance, prob_goal, linestyle='none', marker= '.', color='black')\n",
    "ax.set_ylabel('Probabilidad de marcar gol')\n",
    "ax.set_xlabel(\"Distancia desde la porteria en metros\")\n",
    "ax.spines['top'].set_visible(False)\n",
    "ax.spines['right'].set_visible(False)\n",
    "\n",
    "\n",
    "#Elaboramos el mismo modelo que hemos empleado anteriormente y mostramos la gráfica\n",
    "test_model = smf.glm(formula=\"Goal ~ Distance\" , data=shots_model, \n",
    "                           family=sm.families.Binomial()).fit()\n",
    "print(test_model.summary())        \n",
    "b=test_model.params\n",
    "xGprob=1/(1+np.exp(b[0]+b[1]*middistance)) \n",
    "ax.plot(middistance, xGprob, linestyle='solid', color='black')\n",
    "plt.show()"
   ]
  },
  {
   "cell_type": "code",
   "execution_count": 20,
   "id": "ed7a9a5a",
   "metadata": {},
   "outputs": [],
   "source": []
  },
  {
   "cell_type": "code",
   "execution_count": 43,
   "id": "48eb87be",
   "metadata": {},
   "outputs": [],
   "source": [
    "# A general model for fitting goal probability\n",
    "# List the model variables you want here\n",
    "model_variables = ['Angle','Distance']\n",
    "model=''\n",
    "for v in model_variables[:-1]:\n",
    "    model = model  + v + ' + '\n",
    "model = model + model_variables[-1]"
   ]
  },
  {
   "cell_type": "code",
   "execution_count": 44,
   "id": "10dad3d8",
   "metadata": {},
   "outputs": [
    {
     "name": "stdout",
     "output_type": "stream",
     "text": [
      "                   Generalized Linear Model Regression Results                    \n",
      "==================================================================================\n",
      "Dep. Variable:     ['Goal[0]', 'Goal[1]']   No. Observations:                 6608\n",
      "Model:                                GLM   Df Residuals:                     6605\n",
      "Model Family:                    Binomial   Df Model:                            2\n",
      "Link Function:                      logit   Scale:                          1.0000\n",
      "Method:                              IRLS   Log-Likelihood:                -1859.4\n",
      "Date:                    Wed, 09 Feb 2022   Deviance:                       3718.8\n",
      "Time:                            19:06:19   Pearson chi2:                 1.52e+05\n",
      "No. Iterations:                         7                                         \n",
      "Covariance Type:                nonrobust                                         \n",
      "==============================================================================\n",
      "                 coef    std err          z      P>|z|      [0.025      0.975]\n",
      "------------------------------------------------------------------------------\n",
      "Intercept      1.2693      0.269      4.711      0.000       0.741       1.797\n",
      "Angle         -1.8692      0.248     -7.536      0.000      -2.355      -1.383\n",
      "Distance       0.1034      0.011      9.410      0.000       0.082       0.125\n",
      "==============================================================================\n"
     ]
    }
   ],
   "source": [
    "#Fit del modelo\n",
    "test_model = smf.glm(formula=\"Goal ~ \" + model, data=shots_model, \n",
    "                           family=sm.families.Binomial()).fit()\n",
    "print(test_model.summary())        \n",
    "b=test_model.params\n",
    "\n",
    "def calculate_xG(sh):    \n",
    "   bsum=b[0]\n",
    "   for i,v in enumerate(model_variables):\n",
    "       bsum=bsum+b[i+1]*sh[v]\n",
    "   xG = 1/(1+np.exp(bsum)) \n",
    "   return xG   \n",
    "\n",
    "#Añadir el xG al dataframe\n",
    "xG=shots_model.apply(calculate_xG, axis=1) \n",
    "shots_model = shots_model.assign(xG=xG)"
   ]
  },
  {
   "cell_type": "code",
   "execution_count": 45,
   "id": "e5210487",
   "metadata": {},
   "outputs": [
    {
     "data": {
      "image/png": "[encoded data removed]",
      "text/plain": [
       "<Figure size 432x288 with 2 Axes>"
      ]
     },
     "metadata": {
      "needs_background": "light"
     },
     "output_type": "display_data"
    }
   ],
   "source": [
    "#Mapeado del xG\n",
    "pgoal_2d=np.zeros((65,65))\n",
    "for x in range(65):\n",
    "    for y in range(65):\n",
    "        sh=dict()\n",
    "        a = np.arctan(7.32 *x /(x**2 + abs(y-65/2)**2 - (7.32/2)**2))\n",
    "        if a<0:\n",
    "            a = np.pi + a\n",
    "        sh['Angle'] = a\n",
    "        sh['Distance'] = np.sqrt(x**2 + abs(y-65/2)**2)\n",
    "        sh['D2'] = x**2 + abs(y-65/2)**2\n",
    "        sh['X'] = x\n",
    "        sh['AX'] = x*a\n",
    "        sh['X2'] = x**2\n",
    "        sh['C'] = abs(y-65/2)\n",
    "        sh['C2'] = (y-65/2)**2\n",
    "        \n",
    "        pgoal_2d[x,y] =  calculate_xG(sh)\n",
    "\n",
    "(fig,ax) =createGoalMouth()\n",
    "pos=ax.imshow(pgoal_2d, extent=[-1,65,65,-1], aspect='auto',cmap=plt.cm.Reds,vmin=0, vmax=0.3)\n",
    "fig.colorbar(pos, ax=ax)\n",
    "ax.set_title('Probabilidad de GOL')\n",
    "plt.xlim((0,66))\n",
    "plt.ylim((-3,35))\n",
    "plt.gca().set_aspect('equal', adjustable='box')\n",
    "plt.show()"
   ]
  },
  {
   "cell_type": "code",
   "execution_count": 46,
   "id": "7db310f4",
   "metadata": {},
   "outputs": [
    {
     "data": {
      "image/png": "[encoded data removed]",
      "text/plain": [
       "<Figure size 432x288 with 1 Axes>"
      ]
     },
     "metadata": {
      "needs_background": "light"
     },
     "output_type": "display_data"
    }
   ],
   "source": [
    "#CURVA ROC - AUC\n",
    "null_model = smf.glm(formula=\"Goal ~ 1 \", data=shots_model, \n",
    "                           family=sm.families.Binomial()).fit()\n",
    "1-test_model.llf/null_model.llf\n",
    "\n",
    "#ROC curve\n",
    "numobs=100\n",
    "TP=np.zeros(numobs)\n",
    "FP=np.zeros(numobs)\n",
    "TN=np.zeros(numobs)\n",
    "FN=np.zeros(numobs)\n",
    "\n",
    "\n",
    "for i,threshold in enumerate(np.arange(0,1,1/numobs)):\n",
    "    for j,shot in shots_model.iterrows():\n",
    "        if (shot['Goal']==1): \n",
    "            if(shot['xG']>threshold):\n",
    "                TP[i] = TP[i] + 1\n",
    "            else:\n",
    "                FN[i] = FN[i] + 1\n",
    "        if (shot['Goal']==0): \n",
    "            if(shot['xG']>threshold):\n",
    "                FP[i] = FP[i] + 1\n",
    "            else:\n",
    "                TN[i] = TN[i] + 1\n",
    "     \n",
    "fig,ax=plt.subplots(num=1)\n",
    "ax.plot(FP/(FP+TN), TP/(TP+FN), color='black')\n",
    "ax.plot([0,1], [0,1], linestyle='dotted', color='black')\n",
    "ax.set_ylabel(\"Se Predice que va a marcar y lo hacce:  TP/(TP+FN))\")\n",
    "ax.set_xlabel(\"Se Predice que NO va a marcar y lo hace:  FP/(FP+TN)\")\n",
    "plt.ylim((0.00,1.00))\n",
    "plt.xlim((0.00,1.00))\n",
    "ax.spines['top'].set_visible(False)\n",
    "ax.spines['right'].set_visible(False)           \n",
    "#fig.savefig('Output/ROC_' + model  + '.pdf', dpi=None, bbox_inches=\"tight\")   "
   ]
  },
  {
   "cell_type": "markdown",
   "id": "09ebc00e",
   "metadata": {},
   "source": [
    "Como podemos ver, el valor AUC está por encima del 0,5 como se ve en la gráfica, por lo que podemos garantizar que el modelo empleado es útil."
   ]
  },
  {
   "cell_type": "code",
   "execution_count": null,
   "id": "e04979ef",
   "metadata": {},
   "outputs": [],
   "source": []
  },
  {
   "cell_type": "code",
   "execution_count": null,
   "id": "998b93c1",
   "metadata": {},
   "outputs": [],
   "source": []
  },
  {
   "cell_type": "code",
   "execution_count": null,
   "id": "e329ecb9",
   "metadata": {},
   "outputs": [],
   "source": []
  }
 ],
 "metadata": {
  "kernelspec": {
   "display_name": "Python 3 (ipykernel)",
   "language": "python",
   "name": "python3"
  },
  "language_info": {
   "codemirror_mode": {
    "name": "ipython",
    "version": 3
   },
   "file_extension": ".py",
   "mimetype": "text/x-python",
   "name": "python",
   "nbconvert_exporter": "python",
   "pygments_lexer": "ipython3",
   "version": "3.9.7"
  }
 },
 "nbformat": 4,
 "nbformat_minor": 5
}
